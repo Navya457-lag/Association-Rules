{
 "cells": [
  {
   "cell_type": "code",
   "execution_count": 1,
   "id": "ee76c0db-d7bb-4850-92df-3f3b09c7a5d0",
   "metadata": {},
   "outputs": [
    {
     "data": {
      "text/html": [
       "<div>\n",
       "<style scoped>\n",
       "    .dataframe tbody tr th:only-of-type {\n",
       "        vertical-align: middle;\n",
       "    }\n",
       "\n",
       "    .dataframe tbody tr th {\n",
       "        vertical-align: top;\n",
       "    }\n",
       "\n",
       "    .dataframe thead th {\n",
       "        text-align: right;\n",
       "    }\n",
       "</style>\n",
       "<table border=\"1\" class=\"dataframe\">\n",
       "  <thead>\n",
       "    <tr style=\"text-align: right;\">\n",
       "      <th></th>\n",
       "      <th>shrimp,almonds,avocado,vegetables mix,green grapes,whole weat flour,yams,cottage cheese,energy drink,tomato juice,low fat yogurt,green tea,honey,salad,mineral water,salmon,antioxydant juice,frozen smoothie,spinach,olive oil</th>\n",
       "    </tr>\n",
       "  </thead>\n",
       "  <tbody>\n",
       "    <tr>\n",
       "      <th>0</th>\n",
       "      <td>burgers,meatballs,eggs</td>\n",
       "    </tr>\n",
       "    <tr>\n",
       "      <th>1</th>\n",
       "      <td>chutney</td>\n",
       "    </tr>\n",
       "    <tr>\n",
       "      <th>2</th>\n",
       "      <td>turkey,avocado</td>\n",
       "    </tr>\n",
       "    <tr>\n",
       "      <th>3</th>\n",
       "      <td>mineral water,milk,energy bar,whole wheat rice...</td>\n",
       "    </tr>\n",
       "    <tr>\n",
       "      <th>4</th>\n",
       "      <td>low fat yogurt</td>\n",
       "    </tr>\n",
       "    <tr>\n",
       "      <th>...</th>\n",
       "      <td>...</td>\n",
       "    </tr>\n",
       "    <tr>\n",
       "      <th>7495</th>\n",
       "      <td>butter,light mayo,fresh bread</td>\n",
       "    </tr>\n",
       "    <tr>\n",
       "      <th>7496</th>\n",
       "      <td>burgers,frozen vegetables,eggs,french fries,ma...</td>\n",
       "    </tr>\n",
       "    <tr>\n",
       "      <th>7497</th>\n",
       "      <td>chicken</td>\n",
       "    </tr>\n",
       "    <tr>\n",
       "      <th>7498</th>\n",
       "      <td>escalope,green tea</td>\n",
       "    </tr>\n",
       "    <tr>\n",
       "      <th>7499</th>\n",
       "      <td>eggs,frozen smoothie,yogurt cake,low fat yogurt</td>\n",
       "    </tr>\n",
       "  </tbody>\n",
       "</table>\n",
       "<p>7500 rows × 1 columns</p>\n",
       "</div>"
      ],
      "text/plain": [
       "     shrimp,almonds,avocado,vegetables mix,green grapes,whole weat flour,yams,cottage cheese,energy drink,tomato juice,low fat yogurt,green tea,honey,salad,mineral water,salmon,antioxydant juice,frozen smoothie,spinach,olive oil\n",
       "0                                burgers,meatballs,eggs                                                                                                                                                                             \n",
       "1                                               chutney                                                                                                                                                                             \n",
       "2                                        turkey,avocado                                                                                                                                                                             \n",
       "3     mineral water,milk,energy bar,whole wheat rice...                                                                                                                                                                             \n",
       "4                                        low fat yogurt                                                                                                                                                                             \n",
       "...                                                 ...                                                                                                                                                                             \n",
       "7495                      butter,light mayo,fresh bread                                                                                                                                                                             \n",
       "7496  burgers,frozen vegetables,eggs,french fries,ma...                                                                                                                                                                             \n",
       "7497                                            chicken                                                                                                                                                                             \n",
       "7498                                 escalope,green tea                                                                                                                                                                             \n",
       "7499    eggs,frozen smoothie,yogurt cake,low fat yogurt                                                                                                                                                                             \n",
       "\n",
       "[7500 rows x 1 columns]"
      ]
     },
     "execution_count": 1,
     "metadata": {},
     "output_type": "execute_result"
    }
   ],
   "source": [
    "import pandas as pd\n",
    "data = pd.read_excel(\"C:\\\\Users\\\\mukes\\\\Downloads\\\\Association Rules\\\\Association Rules\\\\Online retail.xlsx\")\n",
    "data"
   ]
  },
  {
   "cell_type": "code",
   "execution_count": 2,
   "id": "cd5f84da-397a-43f9-a686-160f897c69c6",
   "metadata": {},
   "outputs": [
    {
     "name": "stdout",
     "output_type": "stream",
     "text": [
      "  shrimp,almonds,avocado,vegetables mix,green grapes,whole weat flour,yams,cottage cheese,energy drink,tomato juice,low fat yogurt,green tea,honey,salad,mineral water,salmon,antioxydant juice,frozen smoothie,spinach,olive oil\n",
      "0                             burgers,meatballs,eggs                                                                                                                                                                             \n",
      "1                                            chutney                                                                                                                                                                             \n",
      "2                                     turkey,avocado                                                                                                                                                                             \n",
      "3  mineral water,milk,energy bar,whole wheat rice...                                                                                                                                                                             \n",
      "4                                     low fat yogurt                                                                                                                                                                             \n"
     ]
    }
   ],
   "source": [
    "print(data.head())"
   ]
  },
  {
   "cell_type": "code",
   "execution_count": 3,
   "id": "74fa5f07-b94a-4d57-bbba-dba5d95ad117",
   "metadata": {},
   "outputs": [
    {
     "name": "stdout",
     "output_type": "stream",
     "text": [
      "shrimp,almonds,avocado,vegetables mix,green grapes,whole weat flour,yams,cottage cheese,energy drink,tomato juice,low fat yogurt,green tea,honey,salad,mineral water,salmon,antioxydant juice,frozen smoothie,spinach,olive oil    0\n",
      "dtype: int64\n"
     ]
    }
   ],
   "source": [
    "# Check for missing values\n",
    "print(data.isnull().sum())\n"
   ]
  },
  {
   "cell_type": "code",
   "execution_count": 4,
   "id": "b74f42e6-456c-4cfd-846f-4bfa2c9a8af1",
   "metadata": {},
   "outputs": [
    {
     "name": "stdout",
     "output_type": "stream",
     "text": [
      "Index(['shrimp,almonds,avocado,vegetables mix,green grapes,whole weat flour,yams,cottage cheese,energy drink,tomato juice,low fat yogurt,green tea,honey,salad,mineral water,salmon,antioxydant juice,frozen smoothie,spinach,olive oil'], dtype='object')\n",
      "Missing columns: ['InvoiceNo', 'StockCode', 'Quantity']\n",
      "'InvoiceNo' column not found, skipping cancellation filter.\n"
     ]
    }
   ],
   "source": [
    "# Check the columns in the dataset\n",
    "print(data.columns)\n",
    "\n",
    "# Remove rows with missing values in key columns if they exist\n",
    "required_columns = ['InvoiceNo', 'StockCode', 'Quantity']\n",
    "missing_columns = [col for col in required_columns if col not in data.columns]\n",
    "\n",
    "if not missing_columns:\n",
    "    data.dropna(subset=required_columns, inplace=True)\n",
    "else:\n",
    "    print(f\"Missing columns: {missing_columns}\")\n",
    "\n",
    "# Remove duplicate rows\n",
    "data.drop_duplicates(inplace=True)\n",
    "\n",
    "# Check if 'InvoiceNo' exists before filtering cancelled orders\n",
    "if 'InvoiceNo' in data.columns:\n",
    "    data = data[~data['InvoiceNo'].str.startswith('C')]\n",
    "else:\n",
    "    print(\"'InvoiceNo' column not found, skipping cancellation filter.\")\n"
   ]
  },
  {
   "cell_type": "code",
   "execution_count": 5,
   "id": "8a6fa75d-ebdf-4a33-9b5f-22663637b4f7",
   "metadata": {},
   "outputs": [
    {
     "name": "stdout",
     "output_type": "stream",
     "text": [
      "Index(['shrimp,almonds,avocado,vegetables mix,green grapes,whole weat flour,yams,cottage cheese,energy drink,tomato juice,low fat yogurt,green tea,honey,salad,mineral water,salmon,antioxydant juice,frozen smoothie,spinach,olive oil'], dtype='object')\n",
      "Missing columns: ['InvoiceNo', 'StockCode']. Cannot create transaction list.\n"
     ]
    }
   ],
   "source": [
    "# Check the columns in the DataFrame after preprocessing\n",
    "print(data.columns)\n",
    "\n",
    "# Ensure 'InvoiceNo' and 'StockCode' exist before creating the basket\n",
    "if 'InvoiceNo' in data.columns and 'StockCode' in data.columns:\n",
    "    # Create a transaction list\n",
    "    basket = data.groupby(['InvoiceNo', 'StockCode'])['Quantity'].sum().unstack().reset_index().fillna(0)\n",
    "\n",
    "    # Convert quantities to 1s and 0s (1 if item was purchased, 0 otherwise)\n",
    "    basket = basket.set_index('InvoiceNo').applymap(lambda x: 1 if x > 0 else 0)\n",
    "else:\n",
    "    missing_columns = [col for col in ['InvoiceNo', 'StockCode'] if col not in data.columns]\n",
    "    print(f\"Missing columns: {missing_columns}. Cannot create transaction list.\")\n"
   ]
  },
  {
   "cell_type": "code",
   "execution_count": 6,
   "id": "e5edb787-6e6f-4ad1-8bd5-8f90aac283ae",
   "metadata": {},
   "outputs": [
    {
     "name": "stdout",
     "output_type": "stream",
     "text": [
      "Defaulting to user installation because normal site-packages is not writeable\n",
      "Requirement already satisfied: mlxtend in c:\\users\\mukes\\appdata\\roaming\\python\\python312\\site-packages (0.23.1)\n",
      "Requirement already satisfied: scipy>=1.2.1 in c:\\programdata\\anaconda3\\lib\\site-packages (from mlxtend) (1.13.1)\n",
      "Requirement already satisfied: numpy>=1.16.2 in c:\\programdata\\anaconda3\\lib\\site-packages (from mlxtend) (1.26.4)\n",
      "Requirement already satisfied: pandas>=0.24.2 in c:\\programdata\\anaconda3\\lib\\site-packages (from mlxtend) (2.2.2)\n",
      "Requirement already satisfied: scikit-learn>=1.0.2 in c:\\programdata\\anaconda3\\lib\\site-packages (from mlxtend) (1.4.2)\n",
      "Requirement already satisfied: matplotlib>=3.0.0 in c:\\programdata\\anaconda3\\lib\\site-packages (from mlxtend) (3.8.4)\n",
      "Requirement already satisfied: joblib>=0.13.2 in c:\\programdata\\anaconda3\\lib\\site-packages (from mlxtend) (1.4.2)\n",
      "Requirement already satisfied: contourpy>=1.0.1 in c:\\programdata\\anaconda3\\lib\\site-packages (from matplotlib>=3.0.0->mlxtend) (1.2.0)\n",
      "Requirement already satisfied: cycler>=0.10 in c:\\programdata\\anaconda3\\lib\\site-packages (from matplotlib>=3.0.0->mlxtend) (0.11.0)\n",
      "Requirement already satisfied: fonttools>=4.22.0 in c:\\programdata\\anaconda3\\lib\\site-packages (from matplotlib>=3.0.0->mlxtend) (4.51.0)\n",
      "Requirement already satisfied: kiwisolver>=1.3.1 in c:\\programdata\\anaconda3\\lib\\site-packages (from matplotlib>=3.0.0->mlxtend) (1.4.4)\n",
      "Requirement already satisfied: packaging>=20.0 in c:\\programdata\\anaconda3\\lib\\site-packages (from matplotlib>=3.0.0->mlxtend) (23.2)\n",
      "Requirement already satisfied: pillow>=8 in c:\\programdata\\anaconda3\\lib\\site-packages (from matplotlib>=3.0.0->mlxtend) (10.3.0)\n",
      "Requirement already satisfied: pyparsing>=2.3.1 in c:\\programdata\\anaconda3\\lib\\site-packages (from matplotlib>=3.0.0->mlxtend) (3.0.9)\n",
      "Requirement already satisfied: python-dateutil>=2.7 in c:\\programdata\\anaconda3\\lib\\site-packages (from matplotlib>=3.0.0->mlxtend) (2.9.0.post0)\n",
      "Requirement already satisfied: pytz>=2020.1 in c:\\programdata\\anaconda3\\lib\\site-packages (from pandas>=0.24.2->mlxtend) (2024.1)\n",
      "Requirement already satisfied: tzdata>=2022.7 in c:\\programdata\\anaconda3\\lib\\site-packages (from pandas>=0.24.2->mlxtend) (2023.3)\n",
      "Requirement already satisfied: threadpoolctl>=2.0.0 in c:\\programdata\\anaconda3\\lib\\site-packages (from scikit-learn>=1.0.2->mlxtend) (2.2.0)\n",
      "Requirement already satisfied: six>=1.5 in c:\\programdata\\anaconda3\\lib\\site-packages (from python-dateutil>=2.7->matplotlib>=3.0.0->mlxtend) (1.16.0)\n"
     ]
    }
   ],
   "source": [
    "!pip install mlxtend\n"
   ]
  },
  {
   "cell_type": "code",
   "execution_count": 7,
   "id": "9c3e4412-99a4-4831-b3bb-6fa6305d382e",
   "metadata": {},
   "outputs": [
    {
     "name": "stdout",
     "output_type": "stream",
     "text": [
      "Basket DataFrame not found. Please ensure it was created correctly.\n"
     ]
    }
   ],
   "source": [
    "# Import necessary libraries\n",
    "import pandas as pd\n",
    "from mlxtend.frequent_patterns import apriori, association_rules\n",
    "\n",
    "# Ensure the basket DataFrame is created properly\n",
    "# Assuming the basket variable is already created from previous steps\n",
    "\n",
    "# Check if the basket DataFrame exists\n",
    "if 'basket' in locals():\n",
    "    # Find frequent itemsets with a minimum support of 0.01\n",
    "    frequent_itemsets = apriori(basket, min_support=0.01, use_colnames=True)\n",
    "\n",
    "    # Generate association rules with a minimum confidence of 0.5\n",
    "    rules = association_rules(frequent_itemsets, metric=\"lift\", min_threshold=1)\n",
    "\n",
    "    # Display the first few rules\n",
    "    print(rules.head())\n",
    "else:\n",
    "    print(\"Basket DataFrame not found. Please ensure it was created correctly.\")\n"
   ]
  },
  {
   "cell_type": "code",
   "execution_count": 9,
   "id": "0a36d73a-9b8a-4ce7-a6ad-1d82ace82fad",
   "metadata": {},
   "outputs": [
    {
     "name": "stderr",
     "output_type": "stream",
     "text": [
      "C:\\ProgramData\\anaconda3\\Lib\\site-packages\\openpyxl\\packaging\\core.py:99: DeprecationWarning: datetime.datetime.utcnow() is deprecated and scheduled for removal in a future version. Use timezone-aware objects to represent datetimes in UTC: datetime.datetime.now(datetime.UTC).\n",
      "  now = datetime.datetime.utcnow()\n",
      "C:\\ProgramData\\anaconda3\\Lib\\site-packages\\openpyxl\\packaging\\core.py:99: DeprecationWarning: datetime.datetime.utcnow() is deprecated and scheduled for removal in a future version. Use timezone-aware objects to represent datetimes in UTC: datetime.datetime.now(datetime.UTC).\n",
      "  now = datetime.datetime.utcnow()\n"
     ]
    },
    {
     "name": "stdout",
     "output_type": "stream",
     "text": [
      "Columns in dataset: Index(['shrimp,almonds,avocado,vegetables mix,green grapes,whole weat flour,yams,cottage cheese,energy drink,tomato juice,low fat yogurt,green tea,honey,salad,mineral water,salmon,antioxydant juice,frozen smoothie,spinach,olive oil'], dtype='object')\n",
      "Missing columns: ['InvoiceNo', 'StockCode', 'Quantity']\n",
      "'InvoiceNo' column not found, skipping cancellation filter.\n",
      "Missing columns. Cannot create transaction list.\n",
      "Basket DataFrame not found. Please ensure it was created correctly.\n"
     ]
    }
   ],
   "source": [
    "# Import necessary libraries\n",
    "import pandas as pd\n",
    "from mlxtend.frequent_patterns import apriori, association_rules\n",
    "\n",
    "# Load the dataset\n",
    "data = pd.read_excel(\"C:\\\\Users\\\\mukes\\\\Downloads\\\\Association Rules\\\\Association Rules\\\\Online retail.xlsx\")\n",
    "\n",
    "# Data Preprocessing\n",
    "# Check the columns in the dataset\n",
    "print(\"Columns in dataset:\", data.columns)\n",
    "\n",
    "# Remove rows with missing values in key columns if they exist\n",
    "required_columns = ['InvoiceNo', 'StockCode', 'Quantity']\n",
    "missing_columns = [col for col in required_columns if col not in data.columns]\n",
    "\n",
    "if not missing_columns:\n",
    "    data.dropna(subset=required_columns, inplace=True)\n",
    "else:\n",
    "    print(f\"Missing columns: {missing_columns}\")\n",
    "\n",
    "# Remove duplicate rows\n",
    "data.drop_duplicates(inplace=True)\n",
    "\n",
    "# Filter out cancelled orders\n",
    "if 'InvoiceNo' in data.columns:\n",
    "    data = data[~data['InvoiceNo'].str.startswith('C')]\n",
    "else:\n",
    "    print(\"'InvoiceNo' column not found, skipping cancellation filter.\")\n",
    "\n",
    "# Create a transaction list\n",
    "if 'InvoiceNo' in data.columns and 'StockCode' in data.columns:\n",
    "    # Create a basket DataFrame\n",
    "    basket = data.groupby(['InvoiceNo', 'StockCode'])['Quantity'].sum().unstack().reset_index().fillna(0)\n",
    "    # Convert quantities to 1s and 0s (1 if item was purchased, 0 otherwise)\n",
    "    basket = basket.set_index('InvoiceNo').applymap(lambda x: 1 if x > 0 else 0)\n",
    "    print(\"Basket DataFrame created successfully.\")\n",
    "else:\n",
    "    print(\"Missing columns. Cannot create transaction list.\")\n",
    "\n",
    "# Apply Apriori Algorithm\n",
    "if 'basket' in locals():\n",
    "    # Find frequent itemsets with a minimum support of 0.01\n",
    "    frequent_itemsets = apriori(basket, min_support=0.01, use_colnames=True)\n",
    "\n",
    "    # Generate association rules with a minimum confidence of 0.5\n",
    "    rules = association_rules(frequent_itemsets, metric=\"lift\", min_threshold=1)\n",
    "\n",
    "    # Display the first few rules\n",
    "    print(rules.head())\n",
    "else:\n",
    "    print(\"Basket DataFrame not found. Please ensure it was created correctly.\")\n"
   ]
  },
  {
   "cell_type": "code",
   "execution_count": 13,
   "id": "6394318d-c46e-47c4-b517-5f7f35cfab44",
   "metadata": {},
   "outputs": [
    {
     "name": "stdout",
     "output_type": "stream",
     "text": [
      "Columns in dataset: Index(['shrimp,almonds,avocado,vegetables mix,green grapes,whole weat flour,yams,cottage cheese,energy drink,tomato juice,low fat yogurt,green tea,honey,salad,mineral water,salmon,antioxydant juice,frozen smoothie,spinach,olive oil'], dtype='object')\n",
      "Missing columns: ['InvoiceNo', 'StockCode', 'Quantity']\n",
      "'InvoiceNo' column not found, skipping cancellation filter.\n",
      "Missing columns. Cannot create transaction list.\n",
      "Basket DataFrame not found. Please ensure it was created correctly.\n"
     ]
    }
   ],
   "source": [
    "# Import necessary libraries\n",
    "import pandas as pd\n",
    "from mlxtend.frequent_patterns import apriori, association_rules\n",
    "\n",
    "# Data Preprocessing\n",
    "print(\"Columns in dataset:\", data.columns)\n",
    "\n",
    "required_columns = ['InvoiceNo', 'StockCode', 'Quantity']\n",
    "missing_columns = [col for col in required_columns if col not in data.columns]\n",
    "\n",
    "if not missing_columns:\n",
    "    data.dropna(subset=required_columns, inplace=True)\n",
    "else:\n",
    "    print(f\"Missing columns: {missing_columns}\")\n",
    "\n",
    "data.drop_duplicates(inplace=True)\n",
    "\n",
    "if 'InvoiceNo' in data.columns:\n",
    "    data = data[~data['InvoiceNo'].str.startswith('C')]\n",
    "else:\n",
    "    print(\"'InvoiceNo' column not found, skipping cancellation filter.\")\n",
    "\n",
    "# Create a transaction list\n",
    "if 'InvoiceNo' in data.columns and 'StockCode' in data.columns:\n",
    "    basket = data.groupby(['InvoiceNo', 'StockCode'])['Quantity'].sum().unstack().reset_index().fillna(0)\n",
    "    basket = basket.set_index('InvoiceNo').applymap(lambda x: 1 if x > 0 else 0)\n",
    "    print(\"Basket DataFrame created successfully.\")\n",
    "else:\n",
    "    print(\"Missing columns. Cannot create transaction list.\")\n",
    "\n",
    "# Apply Apriori Algorithm\n",
    "if 'basket' in locals():\n",
    "    frequent_itemsets = apriori(basket, min_support=0.01, use_colnames=True)\n",
    "\n",
    "    # Generate association rules with a minimum confidence of 0.5\n",
    "    rules = association_rules(frequent_itemsets, metric=\"lift\", min_threshold=1)\n",
    "\n",
    "    if not rules.empty:\n",
    "        # Display the first few rules\n",
    "        print(\"First few rules:\")\n",
    "        print(rules.head())\n",
    "\n",
    "        # Filtering rules for better insights\n",
    "        rules_filtered = rules[(rules['support'] >= 0.01) & (rules['confidence'] >= 0.5) & (rules['lift'] >= 1)]\n",
    "        print(\"Filtered rules:\")\n",
    "        print(rules_filtered)\n",
    "    else:\n",
    "        print(\"No rules generated. Please check the frequent itemsets.\")\n",
    "else:\n",
    "    print(\"Basket DataFrame not found. Please ensure it was created correctly.\")\n"
   ]
  },
  {
   "cell_type": "code",
   "execution_count": 15,
   "id": "7067748c-0504-4760-8567-b809bfcfb4d6",
   "metadata": {},
   "outputs": [
    {
     "name": "stdout",
     "output_type": "stream",
     "text": [
      "Columns in dataset: Index(['shrimp,almonds,avocado,vegetables mix,green grapes,whole weat flour,yams,cottage cheese,energy drink,tomato juice,low fat yogurt,green tea,honey,salad,mineral water,salmon,antioxydant juice,frozen smoothie,spinach,olive oil'], dtype='object')\n",
      "Missing columns: ['InvoiceNo', 'StockCode', 'Quantity']\n",
      "'InvoiceNo' column not found, skipping cancellation filter.\n",
      "Missing columns. Cannot create transaction list.\n",
      "Basket DataFrame not found. Please ensure it was created correctly.\n"
     ]
    }
   ],
   "source": [
    "# Import necessary libraries\n",
    "import pandas as pd\n",
    "from mlxtend.frequent_patterns import apriori, association_rules\n",
    "\n",
    "# Data Preprocessing\n",
    "print(\"Columns in dataset:\", data.columns)\n",
    "\n",
    "# Define required columns\n",
    "required_columns = ['InvoiceNo', 'StockCode', 'Quantity']\n",
    "missing_columns = [col for col in required_columns if col not in data.columns]\n",
    "\n",
    "if not missing_columns:\n",
    "    data.dropna(subset=required_columns, inplace=True)\n",
    "else:\n",
    "    print(f\"Missing columns: {missing_columns}\")\n",
    "\n",
    "# Remove duplicate rows\n",
    "data.drop_duplicates(inplace=True)\n",
    "\n",
    "# Filter out cancelled orders\n",
    "if 'InvoiceNo' in data.columns:\n",
    "    data = data[~data['InvoiceNo'].str.startswith('C')]\n",
    "else:\n",
    "    print(\"'InvoiceNo' column not found, skipping cancellation filter.\")\n",
    "\n",
    "# Create a transaction list\n",
    "if 'InvoiceNo' in data.columns and 'StockCode' in data.columns:\n",
    "    basket = data.groupby(['InvoiceNo', 'StockCode'])['Quantity'].sum().unstack().reset_index().fillna(0)\n",
    "    basket = basket.set_index('InvoiceNo').applymap(lambda x: 1 if x > 0 else 0)\n",
    "    print(\"Basket DataFrame created successfully.\")\n",
    "else:\n",
    "    print(\"Missing columns. Cannot create transaction list.\")\n",
    "\n",
    "# Apply Apriori Algorithm\n",
    "if 'basket' in locals():\n",
    "    frequent_itemsets = apriori(basket, min_support=0.01, use_colnames=True)\n",
    "    print(\"Frequent itemsets generated.\")\n",
    "\n",
    "    # Generate association rules with a minimum confidence of 0.5\n",
    "    rules = association_rules(frequent_itemsets, metric=\"lift\", min_threshold=1)\n",
    "\n",
    "    if not rules.empty:\n",
    "        # Display the first few rules\n",
    "        print(\"First few rules:\")\n",
    "        print(rules.head())\n",
    "\n",
    "        # Filtering rules for better insights\n",
    "        rules_filtered = rules[(rules['support'] >= 0.01) & (rules['confidence'] >= 0.5) & (rules['lift'] >= 1)]\n",
    "        print(\"Filtered rules:\")\n",
    "        print(rules_filtered)\n",
    "    else:\n",
    "        print(\"No rules generated. Please check the frequent itemsets.\")\n",
    "else:\n",
    "    print(\"Basket DataFrame not found. Please ensure it was created correctly.\")\n"
   ]
  },
  {
   "cell_type": "code",
   "execution_count": 21,
   "id": "416e023d-db5f-4e0d-b84a-088d841f1697",
   "metadata": {},
   "outputs": [
    {
     "name": "stdout",
     "output_type": "stream",
     "text": [
      "Columns in dataset: Index(['shrimp,almonds,avocado,vegetables mix,green grapes,whole weat flour,yams,cottage cheese,energy drink,tomato juice,low fat yogurt,green tea,honey,salad,mineral water,salmon,antioxydant juice,frozen smoothie,spinach,olive oil'], dtype='object')\n",
      "Missing columns: ['InvoiceNo', 'StockCode', 'Quantity']\n",
      "'InvoiceNo' column not found, skipping cancellation filter.\n",
      "Missing columns. Cannot create transaction list.\n",
      "Basket DataFrame not found. Please ensure it was created correctly.\n"
     ]
    }
   ],
   "source": [
    "\n",
    "\n",
    "# Data Preprocessing\n",
    "print(\"Columns in dataset:\", data.columns)\n",
    "\n",
    "# Define required columns\n",
    "required_columns = ['InvoiceNo', 'StockCode', 'Quantity']\n",
    "missing_columns = [col for col in required_columns if col not in data.columns]\n",
    "\n",
    "if not missing_columns:\n",
    "    data.dropna(subset=required_columns, inplace=True)\n",
    "else:\n",
    "    print(f\"Missing columns: {missing_columns}\")\n",
    "\n",
    "# Remove duplicate rows\n",
    "data.drop_duplicates(inplace=True)\n",
    "\n",
    "# Filter out cancelled orders\n",
    "if 'InvoiceNo' in data.columns:\n",
    "    data = data[~data['InvoiceNo'].str.startswith('C')]\n",
    "else:\n",
    "    print(\"'InvoiceNo' column not found, skipping cancellation filter.\")\n",
    "\n",
    "# Create a transaction list\n",
    "if 'InvoiceNo' in data.columns and 'StockCode' in data.columns:\n",
    "    basket = data.groupby(['InvoiceNo', 'StockCode'])['Quantity'].sum().unstack().reset_index().fillna(0)\n",
    "    basket = basket.set_index('InvoiceNo').applymap(lambda x: 1 if x > 0 else 0)\n",
    "    print(\"Basket DataFrame created successfully.\")\n",
    "else:\n",
    "    print(\"Missing columns. Cannot create transaction list.\")\n",
    "\n",
    "# Apply Apriori Algorithm\n",
    "if 'basket' in locals():\n",
    "    frequent_itemsets = apriori(basket, min_support=0.01, use_colnames=True)\n",
    "    print(\"Frequent itemsets generated.\")\n",
    "\n",
    "    # Generate association rules with a minimum confidence of 0.5\n",
    "    rules = association_rules(frequent_itemsets, metric=\"lift\", min_threshold=1)\n",
    "\n",
    "    if not rules.empty:\n",
    "        # Display the first few rules\n",
    "        print(\"First few rules:\")\n",
    "        print(rules.head())\n",
    "\n",
    "        # Filtering rules for better insights\n",
    "        rules_filtered = rules[(rules['support'] >= 0.01) & (rules['confidence'] >= 0.5) & (rules['lift'] >= 1)]\n",
    "        \n",
    "        if not rules_filtered.empty:\n",
    "            print(\"Filtered rules:\")\n",
    "            print(rules_filtered)\n",
    "\n",
    "            # Visualization\n",
    "            top_rules = rules_filtered.nlargest(10, 'lift')\n",
    "\n",
    "            plt.figure(figsize=(10, 6))\n",
    "            sns.barplot(x='lift', y='antecedents', data=top_rules, palette='viridis')\n",
    "            plt.title('Top 10 Association Rules by Lift')\n",
    "            plt.xlabel('Lift')\n",
    "            plt.ylabel('Rules (Antecedents)')\n",
    "            plt.show()\n",
    "        else:\n",
    "            print(\"No filtered rules found. Check your filtering criteria.\")\n",
    "    else:\n",
    "        print(\"No rules generated. Please check the frequent itemsets.\")\n",
    "else:\n",
    "    print(\"Basket DataFrame not found. Please ensure it was created correctly.\")\n"
   ]
  },
  {
   "cell_type": "code",
   "execution_count": null,
   "id": "f708dc56-2337-40ba-99df-4fedcaca28c1",
   "metadata": {},
   "outputs": [],
   "source": [
    "INTERVIEW QUESTIONS\n",
    "\n",
    "\n",
    " 1.What is lift and why is it important in Association rules?\n",
    "\n",
    "  Ans:Lift is a measure of the strength of an association between two items in data mining and association rule learning.\n",
    "\n",
    "      It's calculated by dividing the confidence of the association by the expected confidence of the rule.\n",
    "\n",
    "      Lift is important because it helps determine if the association between two items is stronger than expected, and therefore may be worth further investigation.\n",
    "\n",
    "      A lift value greater than 1 indicates a strong association, while a value less than 1 indicates a weak association. \n",
    "\n",
    "\n",
    " 2.What is support and Confidence. How do you calculate them?\n",
    "    \n",
    "  Ans:Support and confidence are metrics used in data mining to identify important relationships in data.\n",
    "    \n",
    "      Support measures how often an item appears in a dataset, while confidence measures how often an if-then statement is true. \n",
    "\n",
    "      Confidence is calculated by dividing the number of transactions containing both itemsets by the number of transactions containing the first itemset.\n",
    "\n",
    "      Support is used to identify itemsets that occur frequently in the dataset.\n",
    "\n",
    "  3.What are some limitations or challenges of Association rules mining?\n",
    "          \n",
    "  High Computational Complexity: The process can be computationally intensive, especially for large datasets.\n",
    "\n",
    "  Scalability Issues: As the size of the dataset increases, the number of possible itemsets grows exponentially.\n",
    "                                                  \n",
    "  Parameter Sensitivity: The results of association rule mining are highly sensitive to the choice of support, confidence, and lift thresholds."
   ]
  }
 ],
 "metadata": {
  "kernelspec": {
   "display_name": "Python 3 (ipykernel)",
   "language": "python",
   "name": "python3"
  },
  "language_info": {
   "codemirror_mode": {
    "name": "ipython",
    "version": 3
   },
   "file_extension": ".py",
   "mimetype": "text/x-python",
   "name": "python",
   "nbconvert_exporter": "python",
   "pygments_lexer": "ipython3",
   "version": "3.12.4"
  }
 },
 "nbformat": 4,
 "nbformat_minor": 5
}
